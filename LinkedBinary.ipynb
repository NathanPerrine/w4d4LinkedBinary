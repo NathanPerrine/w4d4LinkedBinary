{
 "cells": [
  {
   "cell_type": "markdown",
   "metadata": {},
   "source": [
    "Linked list"
   ]
  },
  {
   "cell_type": "code",
   "execution_count": 1,
   "metadata": {},
   "outputs": [],
   "source": [
    "#Linked List, some reason reminds me of Snake\n",
    "#Has node class\n",
    "class Snek_Node():\n",
    "    def __init__(self, value):\n",
    "        #Nodes have data\n",
    "        self.value = value\n",
    "        #Nodes connect to the next node\n",
    "        self.next = None\n",
    "\n",
    "    def __str__(self):\n",
    "        return self.value\n",
    "    def __repr__(self):\n",
    "        return f'<Snek_Node | {self.value}>'\n"
   ]
  },
  {
   "cell_type": "code",
   "execution_count": 2,
   "metadata": {},
   "outputs": [],
   "source": [
    "#Has list class\n",
    "class SnekList():\n",
    "    # Inits to first node (snek head)\n",
    "    def __init__(self):\n",
    "        #Head is the first in the list\n",
    "        self.head = None\n",
    "\n",
    "    #Can insert at the front of the list ()\n",
    "    def addfront(self, val):\n",
    "        # Create new body segment\n",
    "        body_segment = Snek_Node(val)\n",
    "        # Set the new segments next value to the current head of the snek\n",
    "        body_segment.next = self.head\n",
    "        # Replace the current head with the new head\n",
    "        self.head = body_segment\n",
    "\n",
    "        \n",
    "\n",
    "    #Can traverse list (look to the next node on the tree)\n",
    "    def traverse(self):\n",
    "        #start at the head\n",
    "        snek_node = self.head\n",
    "        #Loop through each segment (node)\n",
    "        while snek_node:\n",
    "            #Print out current node\n",
    "            print(snek_node)\n",
    "            #Start moving to the next node\n",
    "            snek_node = snek_node.next\n",
    "    \n",
    "    #Can add to end of list\n",
    "    def append(self, val):\n",
    "        #Create a new node to add to list\n",
    "        new_tail = Snek_Node(val)\n",
    "\n",
    "        #Find the end of the snek (tail)\n",
    "        #check to see if there is a head already\n",
    "        if self.head is not None:\n",
    "            tail = self.head\n",
    "            #find end of the danger noodle\n",
    "            while tail.next:\n",
    "                #Set the current tail to point to the new tail\n",
    "                tail = tail.next\n",
    "            #after loop the tail is the end of the list\n",
    "            #set tail to point to new segment (new tail)\n",
    "            tail.next = new_tail\n",
    "        #Else there is no head, the snek is empty\n",
    "        else:\n",
    "            #Create a new head\n",
    "            self.head = new_tail\n",
    "        # while self.head: #would end in double loop, don't do that\n",
    "            #Loop until next is None\n",
    "\n",
    "\n",
    "    #Can insert in any spot of list\n",
    "    def insert(self, ins, val):\n",
    "        #Create new segment to insert\n",
    "        new_segment = Snek_Node(val)\n",
    "        #Find the spot to insert\n",
    "        if self.head is not None:\n",
    "            #loop until you find the spot to insert into\n",
    "            body = self.head\n",
    "            while body.next:\n",
    "                #found value to insert after\n",
    "                if body.value == ins:\n",
    "                    #Set the next of the new segment to the next of the current segment\n",
    "                    new_segment.next = body.next\n",
    "                    #Set the next of the current segment to point to the new segment\n",
    "                    body.next = new_segment\n",
    "                body = body.next\n",
    "\n",
    "        else: #No head means nowhere to insert\n",
    "            print(\"No snek to insert into.\")\n",
    "\n",
    "\n",
    "\n",
    "#Can find value"
   ]
  },
  {
   "cell_type": "code",
   "execution_count": 4,
   "metadata": {},
   "outputs": [],
   "source": [
    "snek = SnekList()"
   ]
  },
  {
   "cell_type": "code",
   "execution_count": 5,
   "metadata": {},
   "outputs": [],
   "source": [
    "snek.append('red')\n",
    "snek.append('yellow')\n",
    "snek.append('pink')\n",
    "snek.append('green')"
   ]
  },
  {
   "cell_type": "code",
   "execution_count": 10,
   "metadata": {},
   "outputs": [],
   "source": [
    "snek.insert('yellow', 'magenta')\n",
    "snek.insert('blurple', 'aquamarine')"
   ]
  },
  {
   "cell_type": "code",
   "execution_count": null,
   "metadata": {},
   "outputs": [],
   "source": []
  },
  {
   "cell_type": "code",
   "execution_count": 9,
   "metadata": {},
   "outputs": [],
   "source": [
    "snek.addfront('purple')\n",
    "snek.addfront('orange')\n",
    "snek.addfront('blurple')\n",
    "snek.addfront('blue')\n"
   ]
  },
  {
   "cell_type": "code",
   "execution_count": 11,
   "metadata": {},
   "outputs": [
    {
     "name": "stdout",
     "output_type": "stream",
     "text": [
      "blue\n",
      "blurple\n",
      "aquamarine\n",
      "orange\n",
      "purple\n",
      "red\n",
      "yellow\n",
      "magenta\n",
      "magenta\n",
      "pink\n",
      "green\n"
     ]
    }
   ],
   "source": [
    "snek.traverse()"
   ]
  },
  {
   "cell_type": "markdown",
   "metadata": {},
   "source": [
    "Binary Search Tree...."
   ]
  },
  {
   "cell_type": "code",
   "execution_count": 17,
   "metadata": {},
   "outputs": [],
   "source": [
    "#Only one class, that is recursive... ugh\n",
    "#Has a value, left and right attribute\n",
    "#Start initialize with a root value\n",
    "class BinTree():\n",
    "    def __init__(self, value):\n",
    "        self.value = value\n",
    "        self.left = None\n",
    "        self.right = None\n",
    "\n",
    "    #Insert\n",
    "    #Check if larger or smaller, larger goes right smaller goes left\n",
    "    def insert(self, value):\n",
    "        if value > self.value:\n",
    "            #Value is larger, goes right\n",
    "            #Check to see if there is a node to the right\n",
    "            if self.right:\n",
    "                #There is a value to the right\n",
    "                #Call the insert on that value to keep looking\n",
    "                self.right.insert(value)\n",
    "            else:\n",
    "                #There is no value to the right\n",
    "                #Create a new tree node to the right of the previous node\n",
    "                self.right = BinTree(value)\n",
    "        else:\n",
    "            #Value is smaller, goes left\n",
    "            #Check to see if there is a node to the left\n",
    "            #Repeat above, except for the left\n",
    "            if self.left:\n",
    "                #There is a value to the left\n",
    "                #Call the insert on that value to keep looking\n",
    "                self.left.insert(value)\n",
    "            else:\n",
    "                #There is no value to the left\n",
    "                #Create a new node to the left of the previous node\n",
    "                self.left = BinTree(value)\n",
    "\n",
    "    #Search the tree\n",
    "    def find(self, value):\n",
    "        #Find if value is equal to, larger, or smaller than root\n",
    "        if value > self.value:\n",
    "            #Value is larger, go to the right\n",
    "            #Check to see if there is a value to the right\n",
    "            if self.right is None:\n",
    "                #No value to the right means it's not in the tree\n",
    "                print(\"Value not in list.\")\n",
    "                #Return nothing\n",
    "                return\n",
    "            if value == self.right.value:\n",
    "                #Value found to the right\n",
    "                print(\"Value found!\")\n",
    "                return self.right.value\n",
    "            else:\n",
    "                #Have to call the find method again on the node to the right\n",
    "                return self.right.find(value)\n",
    "        else:\n",
    "            #If not larger, value is smaller, look to the left and repeat above\n",
    "            #If no value to left, value not in tree\n",
    "            if self.left is None:\n",
    "                print(\"Value not in list.\")\n",
    "                #Return nothing\n",
    "                return\n",
    "            if value == self.left.value:\n",
    "                #Value found to the left\n",
    "                print(\"Value found!\")\n",
    "                return self.left.value\n",
    "            else:\n",
    "                #Retry the method on the node to the left\n",
    "                return self.left.find(value)\n",
    "\n",
    "    #Can remove from list\n",
    "    #Finally understand why you need to find min/max value after going through the visualizer \n",
    "    #Need to have a parent value to link nodes\n",
    "    def remove(self, val, parent = None):\n",
    "        #Find the value to remove\n",
    "        if val > self.value:\n",
    "            #Value to remove is to the right\n",
    "            #No value to the right, not in list\n",
    "            if self.right is None:\n",
    "                print(\"Value not in list.\")\n",
    "                return\n",
    "            #Else redo remove on node to right\n",
    "            self.right.remove(val, self)\n",
    "        elif val < self.value:\n",
    "            #Value is lower, move to left\n",
    "            #No value to left, value not in list\n",
    "            if self.left is None:\n",
    "                print(\"Value not in list.\")\n",
    "                return\n",
    "            #Else redo remove on node to left\n",
    "            self.left.remove(val, self)\n",
    "        else:\n",
    "            #Value not higher or lower, value found\n",
    "            #Check if left and right\n",
    "            if self.left is not None and self.right is not None:\n",
    "                #Both left and right have values\n",
    "                #Get max of left value\n",
    "                self.left.getmax()\n",
    "                #\n",
    "                self.left.remove(self.value, self)\n",
    "            #Check for parent\n",
    "            elif parent is None:\n",
    "                #No parent nodes to worry about, set current attributes to child attribues\n",
    "                if self.left is not None:\n",
    "                    #Set attributes if left node\n",
    "                    self.value = self.left.value\n",
    "                    self.right = self.left.right\n",
    "                    self.left = self.left.left\n",
    "                elif self.right is not None:\n",
    "                    #Set attributes if there is a right node (and no left node)\n",
    "                    self.value = self.right.value\n",
    "                    self.left = self.right.left\n",
    "                    self.right = self.right.right\n",
    "                else:\n",
    "                    #No left or right, delete leaf\n",
    "                    self.value = None\n",
    "            #Check parent status\n",
    "            #If you are the current left of the parent\n",
    "            elif parent.left == self:\n",
    "                #Set parents left to your left (if there) or your right\n",
    "                if self.left is not None:\n",
    "                    parent.left = self.left\n",
    "                else:\n",
    "                    parent.left = self.right\n",
    "            #If you are the current right of the parent\n",
    "            elif parent.right == self:\n",
    "                #Set parents left to your left (if there) or your right\n",
    "                if self.left is not None:\n",
    "                    parent.right = self.left\n",
    "                else:\n",
    "                    parent.right = self.right\n",
    "        return self\n",
    "\n",
    "\n",
    "\n",
    "\n",
    "        \n",
    "\n",
    "    #Get min value of current tree\n",
    "    def getmin(self):\n",
    "        #Min is to the left\n",
    "        if self.left is None:\n",
    "            return self.value\n",
    "        else: \n",
    "            #Reoccur the method if there is a value is still to the left\n",
    "            return self.left.getmin()\n",
    "    #Get max value of current tree\n",
    "    def getmax(self):\n",
    "        #Max is to the right\n",
    "        if self.right is None:\n",
    "            return self.value\n",
    "        else:\n",
    "            #Reoccur the method if there is a value is still to the right\n",
    "            return self.right.getmax()\n",
    "            \n",
    "            \n"
   ]
  },
  {
   "cell_type": "code",
   "execution_count": 18,
   "metadata": {},
   "outputs": [],
   "source": [
    "tree = BinTree(50)"
   ]
  },
  {
   "cell_type": "code",
   "execution_count": 19,
   "metadata": {},
   "outputs": [],
   "source": [
    "tree.insert(60)\n",
    "tree.insert(70)\n",
    "tree.insert(80)\n",
    "tree.insert(90)\n",
    "tree.insert(100)"
   ]
  },
  {
   "cell_type": "code",
   "execution_count": 20,
   "metadata": {},
   "outputs": [],
   "source": [
    "tree.insert(40)\n",
    "tree.insert(30)\n",
    "tree.insert(20)\n",
    "tree.insert(10)\n",
    "tree.insert(00)"
   ]
  },
  {
   "cell_type": "code",
   "execution_count": 26,
   "metadata": {},
   "outputs": [],
   "source": [
    "tree.insert(9)\n",
    "tree.insert(55)\n",
    "tree.insert(67)\n",
    "tree.insert(89)\n",
    "tree.insert(14)\n",
    "tree.insert(27)\n",
    "tree.insert(43)"
   ]
  },
  {
   "cell_type": "code",
   "execution_count": 21,
   "metadata": {},
   "outputs": [
    {
     "name": "stdout",
     "output_type": "stream",
     "text": [
      "Value found!\n"
     ]
    },
    {
     "data": {
      "text/plain": [
       "20"
      ]
     },
     "execution_count": 21,
     "metadata": {},
     "output_type": "execute_result"
    }
   ],
   "source": [
    "tree.find(20)"
   ]
  },
  {
   "cell_type": "code",
   "execution_count": 7,
   "metadata": {},
   "outputs": [
    {
     "name": "stdout",
     "output_type": "stream",
     "text": [
      "Value found!\n"
     ]
    },
    {
     "data": {
      "text/plain": [
       "80"
      ]
     },
     "execution_count": 7,
     "metadata": {},
     "output_type": "execute_result"
    }
   ],
   "source": [
    "tree.find(80)"
   ]
  },
  {
   "cell_type": "code",
   "execution_count": 22,
   "metadata": {},
   "outputs": [
    {
     "name": "stdout",
     "output_type": "stream",
     "text": [
      "Value not in list.\n"
     ]
    }
   ],
   "source": [
    "tree.find(92)"
   ]
  },
  {
   "cell_type": "code",
   "execution_count": 25,
   "metadata": {},
   "outputs": [
    {
     "name": "stdout",
     "output_type": "stream",
     "text": [
      "Value not in list.\n"
     ]
    },
    {
     "data": {
      "text/plain": [
       "<__main__.BinTree at 0x2286b0bde20>"
      ]
     },
     "execution_count": 25,
     "metadata": {},
     "output_type": "execute_result"
    }
   ],
   "source": [
    "tree.remove(00)"
   ]
  },
  {
   "cell_type": "code",
   "execution_count": 27,
   "metadata": {},
   "outputs": [
    {
     "name": "stdout",
     "output_type": "stream",
     "text": [
      "Value not in list.\n"
     ]
    },
    {
     "data": {
      "text/plain": [
       "<__main__.BinTree at 0x2286b0bde20>"
      ]
     },
     "execution_count": 27,
     "metadata": {},
     "output_type": "execute_result"
    }
   ],
   "source": [
    "tree.remove(60)"
   ]
  }
 ],
 "metadata": {
  "interpreter": {
   "hash": "16dd1f0e6febe29089962fb2487a942d8d2b9927ae6d9b119e77798fd68476cf"
  },
  "kernelspec": {
   "display_name": "Python 3.9.10 64-bit",
   "language": "python",
   "name": "python3"
  },
  "language_info": {
   "codemirror_mode": {
    "name": "ipython",
    "version": 3
   },
   "file_extension": ".py",
   "mimetype": "text/x-python",
   "name": "python",
   "nbconvert_exporter": "python",
   "pygments_lexer": "ipython3",
   "version": "3.9.10"
  },
  "orig_nbformat": 4
 },
 "nbformat": 4,
 "nbformat_minor": 2
}
