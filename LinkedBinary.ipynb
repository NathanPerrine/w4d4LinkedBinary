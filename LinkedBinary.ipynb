{
 "cells": [
  {
   "cell_type": "markdown",
   "metadata": {},
   "source": [
    "Linked list"
   ]
  },
  {
   "cell_type": "code",
   "execution_count": 1,
   "metadata": {},
   "outputs": [],
   "source": [
    "#Linked List, some reason reminds me of Snake\n",
    "#Has node class\n",
    "class Snek_Node():\n",
    "    def __init__(self, value):\n",
    "        #Nodes have data\n",
    "        self.value = value\n",
    "        #Nodes connect to the next node\n",
    "        self.next = None\n",
    "\n",
    "    def __str__(self):\n",
    "        return self.value\n",
    "    def __repr__(self):\n",
    "        return f'<Snek_Node | {self.value}>'\n"
   ]
  },
  {
   "cell_type": "code",
   "execution_count": 2,
   "metadata": {},
   "outputs": [],
   "source": [
    "#Has list class\n",
    "class SnekList():\n",
    "    # Inits to first node (snek head)\n",
    "    def __init__(self):\n",
    "        #Head is the first in the list\n",
    "        self.head = None\n",
    "\n",
    "    #Can insert at the front of the list ()\n",
    "    def addfront(self, val):\n",
    "        # Create new body segment\n",
    "        body_segment = Snek_Node(val)\n",
    "        # Set the new segments next value to the current head of the snek\n",
    "        body_segment.next = self.head\n",
    "        # Replace the current head with the new head\n",
    "        self.head = body_segment\n",
    "\n",
    "        \n",
    "\n",
    "    #Can traverse list (look to the next node on the tree)\n",
    "    def traverse(self):\n",
    "        #start at the head\n",
    "        snek_node = self.head\n",
    "        #Loop through each segment (node)\n",
    "        while snek_node:\n",
    "            #Print out current node\n",
    "            print(snek_node)\n",
    "            #Start moving to the next node\n",
    "            snek_node = snek_node.next\n",
    "    \n",
    "    #Can add to end of list\n",
    "    def append(self, val):\n",
    "        #Create a new node to add to list\n",
    "        new_tail = Snek_Node(val)\n",
    "\n",
    "        #Find the end of the snek (tail)\n",
    "        #check to see if there is a head already\n",
    "        if self.head is not None:\n",
    "            tail = self.head\n",
    "            #find end of the danger noodle\n",
    "            while tail.next:\n",
    "                #Set the current tail to point to the new tail\n",
    "                tail = tail.next\n",
    "            #after loop the tail is the end of the list\n",
    "            #set tail to point to new segment (new tail)\n",
    "            tail.next = new_tail\n",
    "        #Else there is no head, the snek is empty\n",
    "        else:\n",
    "            #Create a new head\n",
    "            self.head = new_tail\n",
    "        # while self.head: #would end in double loop, don't do that\n",
    "            #Loop until next is None\n",
    "\n",
    "\n",
    "    #Can insert in any spot of list\n",
    "    def insert(self, ins, val):\n",
    "        #Create new segment to insert\n",
    "        new_segment = Snek_Node(val)\n",
    "        #Find the spot to insert\n",
    "        if self.head is not None:\n",
    "            #loop until you find the spot to insert into\n",
    "            body = self.head\n",
    "            while body.next:\n",
    "                #found value to insert after\n",
    "                if body.value == ins:\n",
    "                    #Set the next of the new segment to the next of the current segment\n",
    "                    new_segment.next = body.next\n",
    "                    #Set the next of the current segment to point to the new segment\n",
    "                    body.next = new_segment\n",
    "                body = body.next\n",
    "\n",
    "        else: #No head means nowhere to insert\n",
    "            print(\"No snek to insert into.\")\n",
    "\n",
    "\n",
    "\n",
    "#Can find value"
   ]
  },
  {
   "cell_type": "code",
   "execution_count": 4,
   "metadata": {},
   "outputs": [],
   "source": [
    "snek = SnekList()"
   ]
  },
  {
   "cell_type": "code",
   "execution_count": 5,
   "metadata": {},
   "outputs": [],
   "source": [
    "snek.append('red')\n",
    "snek.append('yellow')\n",
    "snek.append('pink')\n",
    "snek.append('green')"
   ]
  },
  {
   "cell_type": "code",
   "execution_count": 10,
   "metadata": {},
   "outputs": [],
   "source": [
    "snek.insert('yellow', 'magenta')\n",
    "snek.insert('blurple', 'aquamarine')"
   ]
  },
  {
   "cell_type": "code",
   "execution_count": null,
   "metadata": {},
   "outputs": [],
   "source": []
  },
  {
   "cell_type": "code",
   "execution_count": 9,
   "metadata": {},
   "outputs": [],
   "source": [
    "snek.addfront('purple')\n",
    "snek.addfront('orange')\n",
    "snek.addfront('blurple')\n",
    "snek.addfront('blue')\n"
   ]
  },
  {
   "cell_type": "code",
   "execution_count": 11,
   "metadata": {},
   "outputs": [
    {
     "name": "stdout",
     "output_type": "stream",
     "text": [
      "blue\n",
      "blurple\n",
      "aquamarine\n",
      "orange\n",
      "purple\n",
      "red\n",
      "yellow\n",
      "magenta\n",
      "magenta\n",
      "pink\n",
      "green\n"
     ]
    }
   ],
   "source": [
    "snek.traverse()"
   ]
  },
  {
   "cell_type": "markdown",
   "metadata": {},
   "source": [
    "Binary Search Tree...."
   ]
  },
  {
   "cell_type": "code",
   "execution_count": null,
   "metadata": {},
   "outputs": [],
   "source": [
    "#Only one class, that is recursive... ugh\n",
    "#Has a value, left and right attribute\n",
    "#Start initialize with a root value\n",
    "class BinTree():\n",
    "    def __init__(self, value):\n",
    "        self.value = value\n",
    "        self.left = None\n",
    "        self.right = None\n",
    "\n",
    "    #Insert\n",
    "    #Check if larger or smaller, larger goes right smaller goes left\n",
    "    def insert(self, value):\n",
    "        if value > self.value:\n",
    "            #value is larger, goes right\n",
    "            #check to see if there is a node to the right\n",
    "            if self.right:\n",
    "                #there is a value to the right\n",
    "                #call the insert on that value\n",
    "                self.right.insert(value)\n",
    "            else:\n",
    "                #There is no value to the right\n",
    "                #\n",
    "        else:\n",
    "            #value is smaller, goes left\n",
    "            #check to see if there is a node to the left"
   ]
  },
  {
   "cell_type": "code",
   "execution_count": null,
   "metadata": {},
   "outputs": [],
   "source": [
    "tree = BinTree(50)"
   ]
  },
  {
   "cell_type": "code",
   "execution_count": null,
   "metadata": {},
   "outputs": [],
   "source": []
  }
 ],
 "metadata": {
  "interpreter": {
   "hash": "16dd1f0e6febe29089962fb2487a942d8d2b9927ae6d9b119e77798fd68476cf"
  },
  "kernelspec": {
   "display_name": "Python 3.9.10 64-bit",
   "language": "python",
   "name": "python3"
  },
  "language_info": {
   "codemirror_mode": {
    "name": "ipython",
    "version": 3
   },
   "file_extension": ".py",
   "mimetype": "text/x-python",
   "name": "python",
   "nbconvert_exporter": "python",
   "pygments_lexer": "ipython3",
   "version": "3.9.10"
  },
  "orig_nbformat": 4
 },
 "nbformat": 4,
 "nbformat_minor": 2
}
