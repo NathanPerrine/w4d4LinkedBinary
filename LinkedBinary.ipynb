{
 "cells": [
  {
   "cell_type": "code",
   "execution_count": 20,
   "metadata": {},
   "outputs": [],
   "source": [
    "#Linked List, some reason reminds me of Snake\n",
    "#Has node class\n",
    "class Snek_Node():\n",
    "    def __init__(self, value):\n",
    "        #Nodes have data\n",
    "        self.value = value\n",
    "        #Nodes connect to the next node\n",
    "        self.next = None\n",
    "\n",
    "    def __str__(self):\n",
    "        return self.value\n",
    "    def __repr__(self):\n",
    "        return f'<Snek_Node | {self.value}>'\n"
   ]
  },
  {
   "cell_type": "code",
   "execution_count": 17,
   "metadata": {},
   "outputs": [],
   "source": [
    "#Has list class\n",
    "class SnekList():\n",
    "    # Inits to first node (snek head)\n",
    "    def __init__(self):\n",
    "        #Head is the first in the list\n",
    "        self.head = None\n",
    "\n",
    "    #Can insert at the front of the list ()\n",
    "    def addfront(self, val):\n",
    "        # Create new body segment\n",
    "        body_segment = Snek_Node(val)\n",
    "        print(body_segment)\n",
    "        # Set the new segments next value to the current head of the snek\n",
    "        body_segment.next = self.head\n",
    "        # Replace the current head with the new head\n",
    "        self.head = body_segment\n",
    "\n",
    "        \n",
    "\n",
    "    #Can traverse list (look to the next node on the tree)\n",
    "    def traverse(self):\n",
    "        #start at the head\n",
    "        snek_node = self.head\n",
    "        print(snek_node)\n",
    "        #Loop through each segment (node)\n",
    "        while snek_node:\n",
    "            #Print out current node\n",
    "            print(snek_node)\n",
    "            #Start moving to the next node\n",
    "            snek_node = snek_node.next\n",
    "    \n",
    "    #Can add to end of list\n",
    "    def append(self, val):\n",
    "        #Create a new node to add to list\n",
    "        body_segment = Snek_Node(val)\n",
    "        #Find the end of the snek (tail)\n",
    "        #While there is a head, start looping through\n",
    "        while self.head:\n",
    "            #\n",
    "        #Set the current tail to point to the new tail\n",
    "\n",
    "\n",
    "    #Can insert in any spot of list\n",
    "    #Find the spot to insert\n",
    "    #Set the next of the new segment to the next of the current segment\n",
    "    #Set the next of the current segment to point to the new segment\n",
    "\n",
    "\n",
    "\n",
    "#Can find value"
   ]
  },
  {
   "cell_type": "code",
   "execution_count": 18,
   "metadata": {},
   "outputs": [],
   "source": [
    "snek = SnekList()"
   ]
  },
  {
   "cell_type": "code",
   "execution_count": 22,
   "metadata": {},
   "outputs": [
    {
     "name": "stdout",
     "output_type": "stream",
     "text": [
      "purple\n"
     ]
    }
   ],
   "source": [
    "snek.addfront('purple')"
   ]
  },
  {
   "cell_type": "code",
   "execution_count": 24,
   "metadata": {},
   "outputs": [
    {
     "name": "stdout",
     "output_type": "stream",
     "text": [
      "purple\n",
      "purple\n",
      "purple\n"
     ]
    }
   ],
   "source": [
    "snek.traverse()"
   ]
  }
 ],
 "metadata": {
  "interpreter": {
   "hash": "16dd1f0e6febe29089962fb2487a942d8d2b9927ae6d9b119e77798fd68476cf"
  },
  "kernelspec": {
   "display_name": "Python 3.9.10 64-bit",
   "language": "python",
   "name": "python3"
  },
  "language_info": {
   "codemirror_mode": {
    "name": "ipython",
    "version": 3
   },
   "file_extension": ".py",
   "mimetype": "text/x-python",
   "name": "python",
   "nbconvert_exporter": "python",
   "pygments_lexer": "ipython3",
   "version": "3.9.10"
  },
  "orig_nbformat": 4
 },
 "nbformat": 4,
 "nbformat_minor": 2
}
